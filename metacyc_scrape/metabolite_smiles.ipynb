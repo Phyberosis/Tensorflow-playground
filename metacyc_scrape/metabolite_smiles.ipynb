{
 "cells": [
  {
   "cell_type": "code",
   "execution_count": 13,
   "metadata": {},
   "outputs": [
    {
     "name": "stdout",
     "output_type": "stream",
     "text": [
      "1412 metabolites\n"
     ]
    }
   ],
   "source": [
    "import numpy as np\n",
    "\n",
    "folder = 'k-12_mg1655'\n",
    "metabolites = np.load(f'{folder}/metabolites.npy', allow_pickle=True).item()\n",
    "\n",
    "print(len(metabolites), 'metabolites')"
   ]
  },
  {
   "cell_type": "code",
   "execution_count": 120,
   "metadata": {},
   "outputs": [
    {
     "name": "stdout",
     "output_type": "stream",
     "text": [
      "1412 / 1412      \n",
      "1412\n"
     ]
    }
   ],
   "source": [
    "# # this takes a while...\n",
    "\n",
    "# meta_smiles = {}\n",
    "# i, total = 0, len(metabolites)\n",
    "# for m in list(metabolites):\n",
    "#     i += 1\n",
    "#     print(f'{i} / {total}      ',  end='\\r')\n",
    "#     cs = get_compounds(m, 'name')\n",
    "\n",
    "#     def parse_c(c:Compound):\n",
    "#         return c.cid, c.canonical_smiles, c.isomeric_smiles, c.charge,\n",
    "\n",
    "#     result = list(map(lambda c: parse_c(c), cs))\n",
    "#     if len(result) < 1: result = None\n",
    "#     meta_smiles[m] = result\n",
    "\n",
    "# print()\n",
    "# print(len(meta_smiles))\n",
    "# np.save(f'{folder}/meta_smiles', meta_smiles)"
   ]
  },
  {
   "cell_type": "code",
   "execution_count": 80,
   "metadata": {},
   "outputs": [
    {
     "name": "stdout",
     "output_type": "stream",
     "text": [
      "\n",
      "122 rectified 1 still ambiguous\n"
     ]
    }
   ],
   "source": [
    "import numpy as np\n",
    "meta_smiles = np.load(f'{folder}/meta_smiles.npy', allow_pickle=True).item()\n",
    "\n",
    "rectified = {}\n",
    "ambiguous = {}\n",
    "for k, d in meta_smiles.items():\n",
    "    num_mols = len(d) if d is not None else 0\n",
    "    if num_mols < 2: continue\n",
    "    \n",
    "    all_good = list(range(num_mols))            \n",
    "\n",
    "    tests = [\n",
    "        lambda m: m[3] == 0, # neutral charge\n",
    "        lambda m: not('+' in m[1] and '-' in m[1]), # favour uncharged notation\n",
    "        lambda m: '.' not in m[1], # connected\n",
    "    ]\n",
    "\n",
    "    ti = 0\n",
    "    while len(all_good) > 1 and ti < len(tests):\n",
    "        all_same, first_smiles = True, d[all_good[0]][1]\n",
    "        to_del = []\n",
    "        test = tests[ti]\n",
    "        for _i in range(len(all_good)-1, -1, -1):\n",
    "            i = all_good[_i]\n",
    "            all_same = all_same and d[i][1] == first_smiles\n",
    "            if not test(d[i]): to_del.append(_i)\n",
    "        \n",
    "        if all_same and len(all_good) > 0:\n",
    "            all_good = [all_good[0]]\n",
    "            break\n",
    "        elif len(to_del) < len(all_good): # if a test rules out everything, don't apply\n",
    "            for _i in to_del: del all_good[_i]\n",
    "\n",
    "        ti +=1\n",
    "\n",
    "\n",
    "    def rectify(selected): # selected is array of 1\n",
    "        meta_smiles[k] = selected\n",
    "        rectified[k] = (selected, d)\n",
    "\n",
    "    if len(all_good) == 1:\n",
    "        rectify(d[all_good[0]])\n",
    "    else:\n",
    "        ambiguous[k] = d\n",
    "\n",
    "print()\n",
    "print(len(rectified), 'rectified, ', len(ambiguous), 'still ambiguous')\n",
    "\n",
    "np.save(f'{folder}/meta_smiles_pp1', meta_smiles)\n",
    "np.save(f'{folder}/meta_smiles_pp1_rectified', rectified)\n",
    "np.save(f'{folder}/meta_smiles_pp1_ambiguous', ambiguous)"
   ]
  },
  {
   "cell_type": "code",
   "execution_count": null,
   "metadata": {},
   "outputs": [],
   "source": [
    "rectified = {}"
   ]
  },
  {
   "cell_type": "code",
   "execution_count": 14,
   "metadata": {},
   "outputs": [
    {
     "name": "stdout",
     "output_type": "stream",
     "text": [
      "839 Nones\n",
      "[glycine-cleavage complex H protein]\n",
      "[(R)-lipoyl]\n",
      "[glycine-cleavage complex H protein] N^(6)-[(R)-lipoyl]-L-lysine\n"
     ]
    }
   ],
   "source": [
    "import numpy as np\n",
    "meta_smiles = np.load(f'{folder}/meta_smiles_pp1.npy', allow_pickle=True).item()\n",
    "\n",
    "ambiguous = {}\n",
    "nones = list(map(lambda x: x[0], filter(lambda x: x[1] is None, meta_smiles.items())))\n",
    "total = len(nones)\n",
    "print(total, 'Nones')\n",
    "\n",
    "# index is ghetto pass by ref\n",
    "def cut(string:str, start, end, index=None):\n",
    "    i = 0 if index is None else index[0]\n",
    "    try:\n",
    "        s = string.index(start, i)\n",
    "        e = len(string) if end is None else string.index(end, s+len(start)) + len(end)\n",
    "        if not index is None: index[0] = e\n",
    "        return string[s:e]\n",
    "    except ValueError:\n",
    "        return None\n",
    "\n",
    "exit = False\n",
    "for name in nones:\n",
    "    for a in ['an ', 'a ']:\n",
    "        if name.startswith(a):\n",
    "            name = name[len(a):]\n",
    "\n",
    "    cut_i = [0]\n",
    "    while True:\n",
    "        seg = cut(name, '[', ']', cut_i)\n",
    "        if seg is None: break\n",
    "\n",
    "        print(seg)\n",
    "        exit = True\n",
    "\n",
    "    if exit: \n",
    "        print(name)\n",
    "        break"
   ]
  },
  {
   "cell_type": "code",
   "execution_count": 26,
   "metadata": {},
   "outputs": [
    {
     "name": "stderr",
     "output_type": "stream",
     "text": [
      "Forcing soap:address location to HTTPS\n"
     ]
    }
   ],
   "source": [
    "# https://www.ebi.ac.uk/chebi/webServices.do\n",
    "\n",
    "from zeep.client import Client\n",
    "\n",
    "client = Client('https://www.ebi.ac.uk/webservices/chebi/2.0/webservice?wsdl')\n",
    "x = client.service.getLiteEntity('N(6)-[(R)-lipoyl]-L-lysine', 'ALL', 50, 'ALL')"
   ]
  },
  {
   "cell_type": "code",
   "execution_count": 27,
   "metadata": {},
   "outputs": [
    {
     "name": "stdout",
     "output_type": "stream",
     "text": [
      "{\n",
      "    'chebiId': 'CHEBI:83099',\n",
      "    'chebiAsciiName': 'N(6)-[(R)-lipoyl]-L-lysine residue',\n",
      "    'searchScore': 0.1,\n",
      "    'entityStar': 3\n",
      "}\n"
     ]
    }
   ],
   "source": [
    "for xx in x:\n",
    "    if '6' in xx['chebiAsciiName']:\n",
    "        print(xx)"
   ]
  },
  {
   "cell_type": "markdown",
   "metadata": {},
   "source": [
    "scratch after this"
   ]
  },
  {
   "cell_type": "code",
   "execution_count": 28,
   "metadata": {},
   "outputs": [],
   "source": [
    "x = client.service.getCompleteEntity('CHEBI:83099')"
   ]
  },
  {
   "cell_type": "code",
   "execution_count": 31,
   "metadata": {},
   "outputs": [
    {
     "data": {
      "text/plain": [
       "'*-N[C@@H](CCCCNC(=O)CCCC[C@@H]1CCSS1)C(-*)=O'"
      ]
     },
     "execution_count": 31,
     "metadata": {},
     "output_type": "execute_result"
    }
   ],
   "source": [
    "x['smiles']"
   ]
  },
  {
   "cell_type": "code",
   "execution_count": 105,
   "metadata": {},
   "outputs": [
    {
     "data": {
      "text/plain": [
       "'C1CSSC1CCCCC(=O)NCCCCC(C(=O)O)N'"
      ]
     },
     "execution_count": 105,
     "metadata": {},
     "output_type": "execute_result"
    }
   ],
   "source": [
    "x[0].canonical_smiles"
   ]
  },
  {
   "cell_type": "code",
   "execution_count": 90,
   "metadata": {},
   "outputs": [],
   "source": [
    "dg = get_compounds('D-glucose', 'name')[0]\n",
    "tdp = get_compounds('dTDP', 'name')[0]"
   ]
  },
  {
   "cell_type": "code",
   "execution_count": 92,
   "metadata": {},
   "outputs": [
    {
     "name": "stdout",
     "output_type": "stream",
     "text": [
      "C(C1C(C(C(C(O1)O)O)O)O)O\n",
      "CC1=CN(C(=O)NC1=O)C2CC(C(O2)COP(=O)(O)OP(=O)(O)O)O\n"
     ]
    }
   ],
   "source": [
    "print(dg.canonical_smiles)\n",
    "print(tdp.canonical_smiles)"
   ]
  },
  {
   "cell_type": "code",
   "execution_count": 94,
   "metadata": {},
   "outputs": [],
   "source": [
    "x = get_compounds('dTDP-D-glucose', 'name')[0]"
   ]
  },
  {
   "cell_type": "code",
   "execution_count": 95,
   "metadata": {},
   "outputs": [
    {
     "data": {
      "text/plain": [
       "'CC1=CN(C(=O)NC1=O)C2CC(C(O2)COP(=O)(O)OP(=O)(O)OC3C(C(C(C(O3)CO)O)O)O)O'"
      ]
     },
     "execution_count": 95,
     "metadata": {},
     "output_type": "execute_result"
    }
   ],
   "source": [
    "x.canonical_smiles"
   ]
  },
  {
   "cell_type": "code",
   "execution_count": 8,
   "metadata": {},
   "outputs": [],
   "source": [
    "cs2d = get_compounds('6-phospho D-glucono-1,5-lactone', 'name', record_type='2d')"
   ]
  },
  {
   "cell_type": "code",
   "execution_count": 11,
   "metadata": {},
   "outputs": [
    {
     "data": {
      "text/plain": [
       "Compound(46926335)"
      ]
     },
     "execution_count": 11,
     "metadata": {},
     "output_type": "execute_result"
    }
   ],
   "source": [
    "cs2d[0]"
   ]
  },
  {
   "cell_type": "code",
   "execution_count": null,
   "metadata": {},
   "outputs": [],
   "source": [
    "cs"
   ]
  }
 ],
 "metadata": {
  "interpreter": {
   "hash": "31ae9431db124b474084d779980beb2152a7cb41c521bb63b4d48ca4d13f4374"
  },
  "kernelspec": {
   "display_name": "Python 3.9.7 64-bit ('tf': conda)",
   "language": "python",
   "name": "python3"
  },
  "language_info": {
   "codemirror_mode": {
    "name": "ipython",
    "version": 3
   },
   "file_extension": ".py",
   "mimetype": "text/x-python",
   "name": "python",
   "nbconvert_exporter": "python",
   "pygments_lexer": "ipython3",
   "version": "3.9.7"
  },
  "orig_nbformat": 4
 },
 "nbformat": 4,
 "nbformat_minor": 2
}
