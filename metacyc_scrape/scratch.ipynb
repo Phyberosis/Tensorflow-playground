{
 "cells": [
  {
   "cell_type": "code",
   "execution_count": 23,
   "metadata": {},
   "outputs": [
    {
     "name": "stdout",
     "output_type": "stream",
     "text": [
      "442 pathways\n",
      "1412 metabolites\n"
     ]
    }
   ],
   "source": [
    "import numpy as np\n",
    "folder = 'k-12_mg1655'\n",
    "metabolites = np.load(f'{folder}/metabolites.npy', allow_pickle=True).item()\n",
    "pathways = np.load(f'{folder}/pathways.npy', allow_pickle=True).item()\n",
    "\n",
    "print(len(pathways), 'pathways')\n",
    "print(len(metabolites), 'metabolites')"
   ]
  },
  {
   "cell_type": "code",
   "execution_count": 25,
   "metadata": {},
   "outputs": [
    {
     "data": {
      "text/plain": [
       "(['4.2.1.59'],\n",
       " 'RXN-9655',\n",
       " (['a (3R)-3-hydroxydecanoyl-[acp]'],\n",
       "  '→',\n",
       "  ['a (2E)-dec-2-enoyl-[acp]', 'H_(2)O']),\n",
       " ['β-hydroxyacyl-acyl carrier protein dehydratase/isomerase [FabA]_(2)',\n",
       "  '3-hydroxy-acyl-[acyl-carrier-protein] dehydratase [FabZ]_(6)'])"
      ]
     },
     "execution_count": 25,
     "metadata": {},
     "output_type": "execute_result"
    }
   ],
   "source": [
    "genes = set()\n",
    "reactions = set()\n",
    "\n",
    "for k, v in pathways.items():\n",
    "    n, g, r = v\n",
    "    break\n",
    "\n",
    "r[0]"
   ]
  },
  {
   "cell_type": "code",
   "execution_count": 26,
   "metadata": {},
   "outputs": [],
   "source": [
    "import requests"
   ]
  },
  {
   "cell_type": "code",
   "execution_count": 38,
   "metadata": {},
   "outputs": [],
   "source": [
    "def ask(fn, obj, org='ECOLI', det='low'):\n",
    "    return requests.get(f\"https://websvc.biocyc.org/apixml?fn={fn}&id={org}:{obj}&detail={det}\")\n",
    "\n",
    "# def askMeta():\n",
    "#     return requests.get(f\"https://websvc.biocyc.org/{org}/CF?cfs=[CHEMICAL-FORMULA]&fmt=json\")"
   ]
  },
  {
   "cell_type": "code",
   "execution_count": 39,
   "metadata": {},
   "outputs": [
    {
     "name": "stdout",
     "output_type": "stream",
     "text": [
      "<Response [200]>\n"
     ]
    }
   ],
   "source": [
    "response = ask('monomers-of-protein', 'Beta-hydroxydecanoyl-ACPs')\n",
    "print(response)"
   ]
  },
  {
   "cell_type": "code",
   "execution_count": null,
   "metadata": {},
   "outputs": [],
   "source": [
    "response = ask('monomers-of-protein', 'Beta-hydroxydecanoyl-ACPs')\n",
    "print(response)"
   ]
  },
  {
   "cell_type": "code",
   "execution_count": 40,
   "metadata": {},
   "outputs": [],
   "source": [
    "with open('junk2.xml', 'w') as f:\n",
    "    f.write(response.content.decode('utf-8'))"
   ]
  },
  {
   "cell_type": "code",
   "execution_count": null,
   "metadata": {},
   "outputs": [],
   "source": []
  }
 ],
 "metadata": {
  "interpreter": {
   "hash": "31ae9431db124b474084d779980beb2152a7cb41c521bb63b4d48ca4d13f4374"
  },
  "kernelspec": {
   "display_name": "Python 3.9.7 64-bit ('tf': conda)",
   "language": "python",
   "name": "python3"
  },
  "language_info": {
   "codemirror_mode": {
    "name": "ipython",
    "version": 3
   },
   "file_extension": ".py",
   "mimetype": "text/x-python",
   "name": "python",
   "nbconvert_exporter": "python",
   "pygments_lexer": "ipython3",
   "version": "3.9.7"
  },
  "orig_nbformat": 4
 },
 "nbformat": 4,
 "nbformat_minor": 2
}
