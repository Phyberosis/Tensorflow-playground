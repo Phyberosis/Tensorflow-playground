{
 "cells": [
  {
   "cell_type": "code",
   "execution_count": 3,
   "metadata": {},
   "outputs": [],
   "source": [
    "html = 'SmartTable All instances of Pathways in Escherichia coli K-12 substr. MG1655.html'"
   ]
  },
  {
   "cell_type": "code",
   "execution_count": 87,
   "metadata": {},
   "outputs": [
    {
     "data": {
      "text/plain": [
       "442"
      ]
     },
     "execution_count": 87,
     "metadata": {},
     "output_type": "execute_result"
    }
   ],
   "source": [
    "headers = []\n",
    "START_FLAG = 'title=\"Click to edit\">'\n",
    "def parseHeader(line: str):\n",
    "    s = line.index(START_FLAG)\n",
    "    e = line.index('</span><span')\n",
    "    # print(line[s+len(START_FLAG):e])\n",
    "    headers.append(line[s+len(START_FLAG):e])\n",
    "\n",
    "mmap = []\n",
    "def parseRow(line: str):\n",
    "    def local(q, i=0):\n",
    "        s = line\n",
    "        if q in s:\n",
    "            st = s.index(q, i)\n",
    "            print(st, s[st-25:st+100])\n",
    "\n",
    "        return '/'\n",
    "\n",
    "    i = 0\n",
    "    def cut(start, end):\n",
    "        nonlocal i\n",
    "        i = line.index(start, i) + len(start)\n",
    "        return line[i:line.index(end, i)]\n",
    "\n",
    "    pathway = cut(';b&gt;Pathway&lt;/b&gt;: ', '&lt;br&gt;')\n",
    "\n",
    "    genes = []\n",
    "    while True:\n",
    "        try:\n",
    "            genes.append(cut('&lt;b&gt;Gene:&lt;/b&gt;', '&lt;br&gt;'))\n",
    "        except ValueError:\n",
    "            break\n",
    "    genes = [(g[0], g[1:]) for g in [g.strip().split('   ') for g in genes]]\n",
    "\n",
    "    id = cut('<td valign=\"top\" align=\"none\">', '<br></td>')\n",
    "    common_name = cut('<td valign=\"top\" align=\"none\">', '<br></td>')\n",
    "\n",
    "    reactions = []\n",
    "    while True:\n",
    "        try:\n",
    "            ec = cut('Reaction:&lt;/b&gt; EC ', ' &lt;b&gt;')\n",
    "            description = cut('ID:&lt;/b&gt; ', '&lt;br&gt; &lt;b&gt;')\n",
    "            enzymes = cut('&lt;b&gt;Enzyme:&lt;/b&gt; ', ', WIDTH, 500);')\n",
    "            reactions.append((ec, description, enzymes))\n",
    "        except ValueError:\n",
    "            break\n",
    "\n",
    "    mmap.append({\n",
    "        'pathway': pathway,\n",
    "        'genes': genes,\n",
    "        'id': id,\n",
    "        'common_name': common_name,\n",
    "        'reactions': reactions\n",
    "    })\n",
    "\n",
    "parsers = [\n",
    "    (lambda line: not (line.startswith('<span') and START_FLAG in line), lambda l: l), # do nothing\n",
    "    (lambda line: line.startswith('<span') and START_FLAG in line, parseHeader),\n",
    "    (lambda line: line.startswith('<tr'), parseRow),\n",
    "    (lambda line: line, None)\n",
    "]\n",
    "\n",
    "with open(html, 'r') as raw:\n",
    "    state = 0\n",
    "    checker, parser = None, None\n",
    "    for line in raw:\n",
    "        if checker is None or not checker(line):\n",
    "            checker, parser = parsers[state]\n",
    "            state += 1\n",
    "        if parser is None: break\n",
    "\n",
    "        parser(line)\n",
    "\n",
    "len(mmap)"
   ]
  },
  {
   "cell_type": "code",
   "execution_count": 88,
   "metadata": {},
   "outputs": [],
   "source": [
    "import numpy as np\n",
    "\n",
    "np.save('metacyc_K-12_MG1655', mmap)"
   ]
  }
 ],
 "metadata": {
  "interpreter": {
   "hash": "9c6450fc50bf79794bdc3ffb4e04defad759b678c1d38e317514cd9f934478f0"
  },
  "kernelspec": {
   "display_name": "Python 3.9.7 64-bit ('p2v': conda)",
   "language": "python",
   "name": "python3"
  },
  "language_info": {
   "codemirror_mode": {
    "name": "ipython",
    "version": 3
   },
   "file_extension": ".py",
   "mimetype": "text/x-python",
   "name": "python",
   "nbconvert_exporter": "python",
   "pygments_lexer": "ipython3",
   "version": "3.9.7"
  },
  "orig_nbformat": 4
 },
 "nbformat": 4,
 "nbformat_minor": 2
}
