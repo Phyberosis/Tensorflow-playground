{
 "cells": [
  {
   "cell_type": "code",
   "execution_count": 2,
   "metadata": {},
   "outputs": [],
   "source": [
    "import tensorflow as tf2\n",
    "import numpy as np\n",
    "\n",
    "tf = tf2.compat.v1\n",
    "tf.disable_eager_execution()"
   ]
  },
  {
   "cell_type": "code",
   "execution_count": 5,
   "metadata": {},
   "outputs": [],
   "source": [
    "# x and y are placeholders\n",
    "x = tf.placeholder(tf.float32)\n",
    "y = tf.placeholder(tf.float32)\n",
    "\n",
    "# Equation y = b*x*x\n",
    "b = tf.Variable([0.0], name=\"b\")\n",
    "ys = tf.multiply(tf.multiply(x, x),b)\n",
    "\n",
    "# Error \n",
    "e = tf.square(y - ys)\n",
    "\n",
    "# The Gradient Descent Optimizer\n",
    "# 1.0 is learning_rate. The learning rate to use by Tensorflow.\n",
    "train = tf.train.GradientDescentOptimizer(1.0).minimize(e)"
   ]
  },
  {
   "cell_type": "code",
   "execution_count": 6,
   "metadata": {},
   "outputs": [
    {
     "name": "stderr",
     "output_type": "stream",
     "text": [
      "2021-12-13 00:40:48.745616: I tensorflow/core/platform/cpu_feature_guard.cc:151] This TensorFlow binary is optimized with oneAPI Deep Neural Network Library (oneDNN) to use the following CPU instructions in performance-critical operations:  AVX2 FMA\n",
      "To enable them in other operations, rebuild TensorFlow with the appropriate compiler flags.\n"
     ]
    },
    {
     "name": "stdout",
     "output_type": "stream",
     "text": [
      "Predicted model: b =  [4.]\n"
     ]
    },
    {
     "name": "stderr",
     "output_type": "stream",
     "text": [
      "2021-12-13 00:40:49.160811: I tensorflow/core/common_runtime/gpu/gpu_device.cc:1525] Created device /job:localhost/replica:0/task:0/device:GPU:0 with 6024 MB memory:  -> device: 0, name: NVIDIA GeForce RTX 3060 Ti, pci bus id: 0000:01:00.0, compute capability: 8.6\n"
     ]
    }
   ],
   "source": [
    "# Create a session and run the model\n",
    "model = tf.global_variables_initializer()\n",
    " \n",
    "with tf.Session() as session:\n",
    "    session.run(model)\n",
    "    for i in range(50):\n",
    "        x_value = np.random.rand()\n",
    "        # Assume b=4, then let's find b_value = 4 and find it \n",
    "  # by gradient descent\n",
    "        # y = 4*x*x\n",
    "        y_value = 4.0*x_value*x_value\n",
    "        session.run(train, feed_dict={x: x_value, y: y_value})\n",
    " \n",
    "    b_value = session.run(b)\n",
    "    print(\"Predicted model: b = \", b_value)"
   ]
  }
 ],
 "metadata": {
  "interpreter": {
   "hash": "bd5fc9b0f7382eb2f4d28a011105a11527423c9f2b2584837b3fb5c36508d871"
  },
  "kernelspec": {
   "display_name": "Python 3.9.7 64-bit ('gnn': conda)",
   "language": "python",
   "name": "python3"
  },
  "language_info": {
   "codemirror_mode": {
    "name": "ipython",
    "version": 3
   },
   "file_extension": ".py",
   "mimetype": "text/x-python",
   "name": "python",
   "nbconvert_exporter": "python",
   "pygments_lexer": "ipython3",
   "version": "3.9.7"
  },
  "orig_nbformat": 4
 },
 "nbformat": 4,
 "nbformat_minor": 2
}
